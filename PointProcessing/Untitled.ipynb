{
 "cells": [
  {
   "cell_type": "code",
   "execution_count": 1,
   "id": "356d11f0",
   "metadata": {},
   "outputs": [],
   "source": [
    "import numpy as np\n",
    "import cv2 as cv\n",
    "img = cv.imread('lena.jpg')\n",
    "assert img is not None, \"file could not be read, check with os.path.exists()\"\n",
    "import warnings\n",
    "warnings.filterwarnings('ignore')"
   ]
  },
  {
   "cell_type": "code",
   "execution_count": null,
   "id": "7a07a30a",
   "metadata": {},
   "outputs": [],
   "source": []
  },
  {
   "cell_type": "code",
   "execution_count": 2,
   "id": "521cb48e",
   "metadata": {},
   "outputs": [
    {
     "data": {
      "text/plain": [
       "(225, 225, 3)"
      ]
     },
     "execution_count": 2,
     "metadata": {},
     "output_type": "execute_result"
    }
   ],
   "source": [
    "img.shape"
   ]
  },
  {
   "cell_type": "code",
   "execution_count": 3,
   "id": "772b4832",
   "metadata": {},
   "outputs": [],
   "source": [
    "#greyimg=(img[:,:,1]+img[:,:,2]+img[:,:,0])"
   ]
  },
  {
   "cell_type": "code",
   "execution_count": null,
   "id": "9b816545",
   "metadata": {},
   "outputs": [],
   "source": []
  },
  {
   "cell_type": "code",
   "execution_count": 4,
   "id": "9fd93ade",
   "metadata": {},
   "outputs": [],
   "source": [
    "greyimg = cv.cvtColor(img, cv.COLOR_BGR2GRAY)"
   ]
  },
  {
   "cell_type": "code",
   "execution_count": null,
   "id": "c0d5f5ce",
   "metadata": {},
   "outputs": [],
   "source": []
  },
  {
   "cell_type": "code",
   "execution_count": 5,
   "id": "f7c9348a",
   "metadata": {},
   "outputs": [],
   "source": [
    "cv.imshow('lenagrey',greyimg)\n",
    "cv.imshow('lena',img)\n",
    "cv.waitKey()\n",
    "cv.destroyAllWindows()"
   ]
  },
  {
   "cell_type": "markdown",
   "id": "8532a58d",
   "metadata": {},
   "source": [
    "### negative img"
   ]
  },
  {
   "cell_type": "code",
   "execution_count": 6,
   "id": "67ab215e",
   "metadata": {},
   "outputs": [],
   "source": [
    "negativeimg=np.zeros(greyimg.shape,np.uint8)"
   ]
  },
  {
   "cell_type": "code",
   "execution_count": 7,
   "id": "b138d881",
   "metadata": {},
   "outputs": [],
   "source": [
    "negativeimg=255-greyimg"
   ]
  },
  {
   "cell_type": "code",
   "execution_count": 8,
   "id": "30393227",
   "metadata": {},
   "outputs": [],
   "source": [
    "cv.imshow('negative',negativeimg)\n",
    "cv.waitKey()\n",
    "cv.destroyAllWindows()"
   ]
  },
  {
   "cell_type": "markdown",
   "id": "73bbf732",
   "metadata": {},
   "source": [
    "### power img\n"
   ]
  },
  {
   "cell_type": "code",
   "execution_count": 13,
   "id": "ccd5232b",
   "metadata": {},
   "outputs": [],
   "source": [
    "powerimg=np.zeros(greyimg.shape,np.float64)"
   ]
  },
  {
   "cell_type": "code",
   "execution_count": null,
   "id": "a7e8f75e",
   "metadata": {},
   "outputs": [],
   "source": []
  },
  {
   "cell_type": "code",
   "execution_count": 14,
   "id": "d5dc7307",
   "metadata": {},
   "outputs": [],
   "source": [
    "power04img=(255*(greyimg/255)**2).astype(np.uint8)"
   ]
  },
  {
   "cell_type": "code",
   "execution_count": 15,
   "id": "0edf190d",
   "metadata": {},
   "outputs": [
    {
     "data": {
      "text/plain": [
       "array([[ 97,  97,  97, ...,  95, 100,  72],\n",
       "       [ 97,  97,  96, ..., 113, 127,  81],\n",
       "       [ 96,  96,  96, ...,  77,  73,  29],\n",
       "       ...,\n",
       "       [ 10,   8,   7, ...,  17,  25,  30],\n",
       "       [  9,   6,   5, ...,  20,  33,  33],\n",
       "       [  5,  19,   6, ...,  34,  39,  40]], dtype=uint8)"
      ]
     },
     "execution_count": 15,
     "metadata": {},
     "output_type": "execute_result"
    }
   ],
   "source": [
    "power04img"
   ]
  },
  {
   "cell_type": "code",
   "execution_count": 16,
   "id": "6d730d87",
   "metadata": {},
   "outputs": [],
   "source": [
    "cv.imshow('power',power04img)\n",
    "#cv.imshow('lena',l)\n",
    "cv.waitKey()\n",
    "cv.destroyAllWindows()"
   ]
  },
  {
   "cell_type": "markdown",
   "id": "43762d87",
   "metadata": {},
   "source": [
    "### Histogram Equalization"
   ]
  },
  {
   "cell_type": "code",
   "execution_count": 17,
   "id": "17382e12",
   "metadata": {},
   "outputs": [],
   "source": [
    "histogram=np.zeros(255)"
   ]
  },
  {
   "cell_type": "code",
   "execution_count": 18,
   "id": "90efcf9b",
   "metadata": {},
   "outputs": [
    {
     "data": {
      "text/plain": [
       "array([0., 0., 0., 0., 0., 0., 0., 0., 0., 0., 0., 0., 0., 0., 0., 0., 0.,\n",
       "       0., 0., 0., 0., 0., 0., 0., 0., 0., 0., 0., 0., 0., 0., 0., 0., 0.,\n",
       "       0., 0., 0., 0., 0., 0., 0., 0., 0., 0., 0., 0., 0., 0., 0., 0., 0.,\n",
       "       0., 0., 0., 0., 0., 0., 0., 0., 0., 0., 0., 0., 0., 0., 0., 0., 0.,\n",
       "       0., 0., 0., 0., 0., 0., 0., 0., 0., 0., 0., 0., 0., 0., 0., 0., 0.,\n",
       "       0., 0., 0., 0., 0., 0., 0., 0., 0., 0., 0., 0., 0., 0., 0., 0., 0.,\n",
       "       0., 0., 0., 0., 0., 0., 0., 0., 0., 0., 0., 0., 0., 0., 0., 0., 0.,\n",
       "       0., 0., 0., 0., 0., 0., 0., 0., 0., 0., 0., 0., 0., 0., 0., 0., 0.,\n",
       "       0., 0., 0., 0., 0., 0., 0., 0., 0., 0., 0., 0., 0., 0., 0., 0., 0.,\n",
       "       0., 0., 0., 0., 0., 0., 0., 0., 0., 0., 0., 0., 0., 0., 0., 0., 0.,\n",
       "       0., 0., 0., 0., 0., 0., 0., 0., 0., 0., 0., 0., 0., 0., 0., 0., 0.,\n",
       "       0., 0., 0., 0., 0., 0., 0., 0., 0., 0., 0., 0., 0., 0., 0., 0., 0.,\n",
       "       0., 0., 0., 0., 0., 0., 0., 0., 0., 0., 0., 0., 0., 0., 0., 0., 0.,\n",
       "       0., 0., 0., 0., 0., 0., 0., 0., 0., 0., 0., 0., 0., 0., 0., 0., 0.,\n",
       "       0., 0., 0., 0., 0., 0., 0., 0., 0., 0., 0., 0., 0., 0., 0., 0., 0.])"
      ]
     },
     "execution_count": 18,
     "metadata": {},
     "output_type": "execute_result"
    }
   ],
   "source": [
    "histogram"
   ]
  },
  {
   "cell_type": "code",
   "execution_count": 19,
   "id": "af2bc7b9",
   "metadata": {},
   "outputs": [],
   "source": [
    "row,col=greyimg.shape"
   ]
  },
  {
   "cell_type": "code",
   "execution_count": 20,
   "id": "a0dd6096",
   "metadata": {},
   "outputs": [],
   "source": [
    "for i in range(row):\n",
    "    for j in range(col):\n",
    "        histogram[greyimg[i][j]]+=1"
   ]
  },
  {
   "cell_type": "code",
   "execution_count": 21,
   "id": "3e043feb",
   "metadata": {},
   "outputs": [
    {
     "data": {
      "image/png": "[encoded data removed]",
      "text/plain": [
       "<Figure size 640x480 with 1 Axes>"
      ]
     },
     "metadata": {},
     "output_type": "display_data"
    }
   ],
   "source": [
    "\n",
    "import matplotlib.pyplot as plt\n",
    "\n",
    "\n",
    "plt.hist(histogram, bins=256)     # 히스토그램 bins는 사각형 기둥의 수\n",
    "plt.show()"
   ]
  },
  {
   "cell_type": "code",
   "execution_count": 22,
   "id": "8fb41947",
   "metadata": {},
   "outputs": [],
   "source": [
    "sum_hist=np.zeros(256)"
   ]
  },
  {
   "cell_type": "code",
   "execution_count": 23,
   "id": "29a019e8",
   "metadata": {},
   "outputs": [
    {
     "data": {
      "text/plain": [
       "(225, 225)"
      ]
     },
     "execution_count": 23,
     "metadata": {},
     "output_type": "execute_result"
    }
   ],
   "source": [
    "greyimg.shape"
   ]
  },
  {
   "cell_type": "code",
   "execution_count": 24,
   "id": "2a25aae0",
   "metadata": {},
   "outputs": [],
   "source": [
    "sum=0;\n",
    "scale_facroe=255.0\n",
    "\n",
    "for i in range(255):\n",
    "    sum+=histogram[i]\n",
    "    sum_hist[i]=(sum*(255/(225*225)))+0.5\n",
    "    "
   ]
  },
  {
   "cell_type": "code",
   "execution_count": 25,
   "id": "367b1050",
   "metadata": {},
   "outputs": [
    {
     "data": {
      "text/plain": [
       "array([  0,   0,   0,   0,   0,   0,   0,   0,   0,   0,   0,   0,   0,\n",
       "         0,   0,   0,   0,   0,   0,   0,   0,   0,   1,   1,   1,   1,\n",
       "         2,   2,   3,   3,   3,   4,   4,   5,   6,   7,   7,   8,   9,\n",
       "        11,  12,  13,  15,  17,  19,  21,  23,  25,  26,  28,  30,  31,\n",
       "        33,  34,  35,  36,  37,  38,  39,  40,  41,  42,  43,  44,  45,\n",
       "        45,  46,  47,  48,  49,  50,  51,  52,  53,  54,  54,  55,  56,\n",
       "        57,  58,  59,  60,  61,  62,  63,  64,  65,  66,  67,  69,  70,\n",
       "        71,  73,  74,  76,  78,  80,  83,  85,  87,  88,  90,  91,  93,\n",
       "        94,  95,  96,  98,  99, 100, 101, 103, 104, 105, 106, 108, 109,\n",
       "       111, 112, 114, 116, 118, 120, 123, 125, 128, 130, 132, 134, 136,\n",
       "       138, 140, 142, 144, 145, 147, 149, 152, 154, 157, 159, 162, 164,\n",
       "       166, 169, 171, 173, 175, 177, 179, 182, 185, 187, 190, 192, 194,\n",
       "       197, 199, 201, 202, 204, 205, 207, 208, 209, 210, 211, 213, 214,\n",
       "       216, 217, 218, 219, 221, 222, 222, 223, 224, 225, 226, 226, 227,\n",
       "       228, 228, 229, 230, 230, 231, 232, 232, 233, 234, 235, 235, 236,\n",
       "       237, 238, 239, 240, 240, 242, 243, 244, 245, 246, 247, 248, 249,\n",
       "       250, 251, 251, 252, 253, 253, 253, 254, 254, 254, 254, 254, 255,\n",
       "       255, 255, 255, 255, 255, 255, 255, 255, 255, 255, 255, 255, 255,\n",
       "       255, 255, 255, 255, 255, 255, 255, 255, 255, 255, 255, 255, 255,\n",
       "       255, 255, 255, 255, 255, 255, 255, 255,   0], dtype=uint8)"
      ]
     },
     "execution_count": 25,
     "metadata": {},
     "output_type": "execute_result"
    }
   ],
   "source": [
    "sum_hist.astype(np.uint8)"
   ]
  },
  {
   "cell_type": "code",
   "execution_count": 26,
   "id": "ccaac8df",
   "metadata": {},
   "outputs": [
    {
     "data": {
      "image/png": "[encoded data removed]",
      "text/plain": [
       "<Figure size 640x480 with 1 Axes>"
      ]
     },
     "metadata": {},
     "output_type": "display_data"
    }
   ],
   "source": [
    "plt.hist(sum_hist, bins=256)     # 히스토그램 bins는 사각형 기둥의 수\n",
    "plt.show()"
   ]
  },
  {
   "cell_type": "code",
   "execution_count": 27,
   "id": "f33cb971",
   "metadata": {},
   "outputs": [],
   "source": [
    "equalization=np.zeros([row,col],np.uint8)"
   ]
  },
  {
   "cell_type": "code",
   "execution_count": 28,
   "id": "6ecee2fc",
   "metadata": {},
   "outputs": [
    {
     "data": {
      "text/plain": [
       "(225, 225)"
      ]
     },
     "execution_count": 28,
     "metadata": {},
     "output_type": "execute_result"
    }
   ],
   "source": [
    "equalization.shape\n"
   ]
  },
  {
   "cell_type": "code",
   "execution_count": 29,
   "id": "c5d09ade",
   "metadata": {},
   "outputs": [],
   "source": [
    "for i in range(row):\n",
    "    for j in range(col):\n",
    "        equalization[i][j]=sum_hist[greyimg[i][j]]"
   ]
  },
  {
   "cell_type": "code",
   "execution_count": 30,
   "id": "8e8a92c9",
   "metadata": {},
   "outputs": [],
   "source": [
    "cv.imshow('equalization',equalization)\n",
    "cv.imshow('greylena',greyimg)\n",
    "cv.waitKey()\n",
    "cv.destroyAllWindows()"
   ]
  },
  {
   "cell_type": "code",
   "execution_count": null,
   "id": "4a8e9008",
   "metadata": {},
   "outputs": [],
   "source": []
  }
 ],
 "metadata": {
  "kernelspec": {
   "display_name": "Python 3 (ipykernel)",
   "language": "python",
   "name": "python3"
  },
  "language_info": {
   "codemirror_mode": {
    "name": "ipython",
    "version": 3
   },
   "file_extension": ".py",
   "mimetype": "text/x-python",
   "name": "python",
   "nbconvert_exporter": "python",
   "pygments_lexer": "ipython3",
   "version": "3.9.13"
  }
 },
 "nbformat": 4,
 "nbformat_minor": 5
}
