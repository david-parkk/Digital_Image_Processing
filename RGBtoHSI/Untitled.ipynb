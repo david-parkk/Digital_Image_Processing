{
 "cells": [
  {
   "cell_type": "code",
   "execution_count": 61,
   "id": "ab97ac83",
   "metadata": {},
   "outputs": [
    {
     "data": {
      "text/plain": [
       "array([[[ 20, 213,   1],\n",
       "        [ 20, 213,   1],\n",
       "        [ 20, 213,   1],\n",
       "        ...,\n",
       "        [  0, 255,   0],\n",
       "        [  0, 255,   0],\n",
       "        [  0, 255,   0]],\n",
       "\n",
       "       [[ 20, 213,   1],\n",
       "        [ 20, 213,   1],\n",
       "        [ 20, 213,   1],\n",
       "        ...,\n",
       "        [  0, 255,   0],\n",
       "        [  0, 255,   0],\n",
       "        [  0, 255,   0]],\n",
       "\n",
       "       [[ 20, 213,   1],\n",
       "        [ 20, 213,   1],\n",
       "        [ 20, 213,   1],\n",
       "        ...,\n",
       "        [  0, 255,   0],\n",
       "        [  0, 255,   0],\n",
       "        [  0, 255,   0]],\n",
       "\n",
       "       ...,\n",
       "\n",
       "       [[  0,   0,   0],\n",
       "        [  0,   0,   0],\n",
       "        [  0,   0,   0],\n",
       "        ...,\n",
       "        [ 20, 213,   1],\n",
       "        [ 20, 213,   1],\n",
       "        [ 20, 213,   1]],\n",
       "\n",
       "       [[  0,   0,   0],\n",
       "        [  0,   0,   0],\n",
       "        [  0,   0,   0],\n",
       "        ...,\n",
       "        [ 20, 213,   1],\n",
       "        [ 20, 213,   1],\n",
       "        [ 20, 213,   1]],\n",
       "\n",
       "       [[  0,   0,   0],\n",
       "        [  0,   0,   0],\n",
       "        [  0,   0,   0],\n",
       "        ...,\n",
       "        [ 20, 213,   1],\n",
       "        [ 20, 213,   1],\n",
       "        [ 20, 213,   1]]], dtype=uint8)"
      ]
     },
     "execution_count": 61,
     "metadata": {},
     "output_type": "execute_result"
    }
   ],
   "source": [
    "import numpy as np\n",
    "import cv2 as cv\n",
    "# Create a black image\n",
    "img = np.zeros((512,512,3), np.uint8)\n",
    "# Draw a diagonal blue line with thickness of 5 px\n",
    "cv.line(img,(0,0),(511,511),(20,213,1),5)\n",
    "cv.rectangle(img,(384,0),(510,128),(0,255,0),3)\n",
    "cv.circle(img,(447,63), 63, (0,0,255), -1)\n",
    "cv.ellipse(img,(256,256),(100,50),0,0,200,360,-1)"
   ]
  },
  {
   "cell_type": "code",
   "execution_count": 1,
   "id": "fbac6747",
   "metadata": {},
   "outputs": [],
   "source": [
    "import numpy as np\n",
    "import cv2 as cv\n",
    "img = cv.imread('karoro.png')\n",
    "assert img is not None, \"file could not be read, check with os.path.exists()\""
   ]
  },
  {
   "cell_type": "code",
   "execution_count": 2,
   "id": "37d9a30d",
   "metadata": {},
   "outputs": [],
   "source": [
    "px=img[100,100]"
   ]
  },
  {
   "cell_type": "code",
   "execution_count": 3,
   "id": "521b0636",
   "metadata": {},
   "outputs": [
    {
     "name": "stdout",
     "output_type": "stream",
     "text": [
      "[226 239 247]\n"
     ]
    }
   ],
   "source": [
    "print(px)"
   ]
  },
  {
   "cell_type": "code",
   "execution_count": 4,
   "id": "2e62549b",
   "metadata": {},
   "outputs": [
    {
     "name": "stdout",
     "output_type": "stream",
     "text": [
      "150822\n"
     ]
    }
   ],
   "source": [
    "print(img.size)"
   ]
  },
  {
   "cell_type": "code",
   "execution_count": null,
   "id": "f53e31da",
   "metadata": {},
   "outputs": [],
   "source": []
  },
  {
   "cell_type": "code",
   "execution_count": 5,
   "id": "46ef4532",
   "metadata": {},
   "outputs": [
    {
     "data": {
      "text/plain": [
       "(171, 294, 3)"
      ]
     },
     "execution_count": 5,
     "metadata": {},
     "output_type": "execute_result"
    }
   ],
   "source": [
    "img1 = np.zeros((171,294,3), np.uint8)\n",
    "img1.shape"
   ]
  },
  {
   "cell_type": "code",
   "execution_count": 6,
   "id": "c530d481",
   "metadata": {},
   "outputs": [],
   "source": [
    "height, width, channel = img.shape"
   ]
  },
  {
   "cell_type": "code",
   "execution_count": 7,
   "id": "79d19574",
   "metadata": {},
   "outputs": [],
   "source": [
    "b=img[:,:,0]"
   ]
  },
  {
   "cell_type": "code",
   "execution_count": 8,
   "id": "570d4d3e",
   "metadata": {},
   "outputs": [
    {
     "data": {
      "text/plain": [
       "array([[255, 255, 255, ..., 255, 255, 255],\n",
       "       [255, 255, 255, ..., 255, 255, 255],\n",
       "       [255, 255, 255, ..., 255, 255, 255],\n",
       "       ...,\n",
       "       [255, 255, 255, ..., 255, 255, 255],\n",
       "       [255, 255, 255, ..., 255, 255, 255],\n",
       "       [255, 255, 255, ..., 255, 255, 255]], dtype=uint8)"
      ]
     },
     "execution_count": 8,
     "metadata": {},
     "output_type": "execute_result"
    }
   ],
   "source": [
    "b"
   ]
  },
  {
   "cell_type": "code",
   "execution_count": 9,
   "id": "04a6fb50",
   "metadata": {},
   "outputs": [],
   "source": [
    "\n",
    "bgr = img.astype(np.float64) / 255.0"
   ]
  },
  {
   "cell_type": "code",
   "execution_count": 30,
   "id": "d312461c",
   "metadata": {},
   "outputs": [
    {
     "data": {
      "text/plain": [
       "array([[[255, 252, 255],\n",
       "        [255, 252, 255],\n",
       "        [255, 251, 255],\n",
       "        ...,\n",
       "        [255, 255, 255],\n",
       "        [255, 255, 255],\n",
       "        [255, 255, 255]],\n",
       "\n",
       "       [[255, 252, 255],\n",
       "        [255, 252, 255],\n",
       "        [255, 251, 255],\n",
       "        ...,\n",
       "        [255, 255, 255],\n",
       "        [255, 255, 255],\n",
       "        [255, 255, 255]],\n",
       "\n",
       "       [[255, 252, 255],\n",
       "        [255, 252, 255],\n",
       "        [255, 252, 255],\n",
       "        ...,\n",
       "        [255, 255, 255],\n",
       "        [255, 255, 255],\n",
       "        [255, 255, 255]],\n",
       "\n",
       "       ...,\n",
       "\n",
       "       [[255, 255, 255],\n",
       "        [255, 255, 255],\n",
       "        [255, 255, 255],\n",
       "        ...,\n",
       "        [255, 255, 255],\n",
       "        [255, 255, 255],\n",
       "        [255, 255, 255]],\n",
       "\n",
       "       [[255, 255, 255],\n",
       "        [255, 255, 255],\n",
       "        [255, 255, 255],\n",
       "        ...,\n",
       "        [255, 255, 255],\n",
       "        [255, 255, 255],\n",
       "        [255, 255, 255]],\n",
       "\n",
       "       [[255, 255, 255],\n",
       "        [255, 255, 255],\n",
       "        [255, 255, 255],\n",
       "        ...,\n",
       "        [255, 255, 255],\n",
       "        [255, 255, 255],\n",
       "        [255, 255, 255]]], dtype=uint8)"
      ]
     },
     "execution_count": 30,
     "metadata": {},
     "output_type": "execute_result"
    }
   ],
   "source": [
    "img"
   ]
  },
  {
   "cell_type": "code",
   "execution_count": 10,
   "id": "075f9fc0",
   "metadata": {},
   "outputs": [],
   "source": [
    "\n",
    "b, g, r = cv.split(bgr)"
   ]
  },
  {
   "cell_type": "code",
   "execution_count": 11,
   "id": "cf3f74c5",
   "metadata": {},
   "outputs": [],
   "source": [
    "\n",
    "h = np.zeros((height, width), dtype=np.float64)\n",
    "s = np.zeros((height, width), dtype=np.float64)"
   ]
  },
  {
   "cell_type": "code",
   "execution_count": 29,
   "id": "f4942067",
   "metadata": {},
   "outputs": [
    {
     "data": {
      "text/plain": [
       "array([[1., 1., 1., ..., 1., 1., 1.],\n",
       "       [1., 1., 1., ..., 1., 1., 1.],\n",
       "       [1., 1., 1., ..., 1., 1., 1.],\n",
       "       ...,\n",
       "       [1., 1., 1., ..., 1., 1., 1.],\n",
       "       [1., 1., 1., ..., 1., 1., 1.],\n",
       "       [1., 1., 1., ..., 1., 1., 1.]])"
      ]
     },
     "execution_count": 29,
     "metadata": {},
     "output_type": "execute_result"
    }
   ],
   "source": [
    "\n",
    "v = np.max(bgr, axis=2)\n",
    "v"
   ]
  },
  {
   "cell_type": "code",
   "execution_count": 13,
   "id": "801df8b8",
   "metadata": {},
   "outputs": [],
   "source": [
    "import warnings\n",
    "warnings.filterwarnings('ignore')"
   ]
  },
  {
   "cell_type": "code",
   "execution_count": 14,
   "id": "256c150f",
   "metadata": {},
   "outputs": [],
   "source": [
    "for i in range(height):\n",
    "    for j in range(width):\n",
    "        if v[i][j] == 0:\n",
    "            h[i][j] = 0\n",
    "            s[i][j] = 0\n",
    "        else:\n",
    "            min_rgb = min(bgr[i][j])\n",
    "            \n",
    "            s[i][j] = 1 - (min_rgb / v[i][j])\n",
    "            \n",
    "            if v[i][j] == r[i][j]:\n",
    "                h[i][j] = 60 * (g[i][j] - b[i][j]) / (v[i][j] - min_rgb)\n",
    "            elif v[i][j] == g[i][j]:\n",
    "                h[i][j] = 120 + (60 * (b[i][j] - r[i][j])) / (v[i][j] - min_rgb)\n",
    "            elif v[i][j] == b[i][j]:\n",
    "                h[i][j] = 240 + (60 * (r[i][j] - g[i][j])) / (v[i][j] - min_rgb)\n",
    "            if h[i][j] < 0:\n",
    "                h[i][j] += 360\n",
    "            h[i][j] /= 360"
   ]
  },
  {
   "cell_type": "code",
   "execution_count": 28,
   "id": "5e546c03",
   "metadata": {},
   "outputs": [
    {
     "data": {
      "text/plain": [
       "array([[1., 1., 1., ..., 1., 1., 1.],\n",
       "       [1., 1., 1., ..., 1., 1., 1.],\n",
       "       [1., 1., 1., ..., 1., 1., 1.],\n",
       "       ...,\n",
       "       [1., 1., 1., ..., 1., 1., 1.],\n",
       "       [1., 1., 1., ..., 1., 1., 1.],\n",
       "       [1., 1., 1., ..., 1., 1., 1.]])"
      ]
     },
     "execution_count": 28,
     "metadata": {},
     "output_type": "execute_result"
    }
   ],
   "source": []
  },
  {
   "cell_type": "code",
   "execution_count": 20,
   "id": "dd7186f4",
   "metadata": {},
   "outputs": [],
   "source": [
    "hsv_img = (np.dstack((h, s, v)) * 255).astype(np.uint8)"
   ]
  },
  {
   "cell_type": "code",
   "execution_count": 27,
   "id": "004be74e",
   "metadata": {},
   "outputs": [],
   "source": [
    "cv.imshow('asdf',v)\n",
    "k = cv.waitKey(0)"
   ]
  },
  {
   "cell_type": "code",
   "execution_count": 17,
   "id": "09e7809e",
   "metadata": {},
   "outputs": [
    {
     "data": {
      "text/plain": [
       "array([[[212,   2, 255],\n",
       "        [212,   2, 255],\n",
       "        [212,   4, 255],\n",
       "        ...,\n",
       "        [  0,   0, 255],\n",
       "        [  0,   0, 255],\n",
       "        [  0,   0, 255]],\n",
       "\n",
       "       [[212,   2, 255],\n",
       "        [212,   2, 255],\n",
       "        [212,   4, 255],\n",
       "        ...,\n",
       "        [  0,   0, 255],\n",
       "        [  0,   0, 255],\n",
       "        [  0,   0, 255]],\n",
       "\n",
       "       [[212,   2, 255],\n",
       "        [212,   2, 255],\n",
       "        [212,   2, 255],\n",
       "        ...,\n",
       "        [  0,   0, 255],\n",
       "        [  0,   0, 255],\n",
       "        [  0,   0, 255]],\n",
       "\n",
       "       ...,\n",
       "\n",
       "       [[  0,   0, 255],\n",
       "        [  0,   0, 255],\n",
       "        [  0,   0, 255],\n",
       "        ...,\n",
       "        [  0,   0, 255],\n",
       "        [  0,   0, 255],\n",
       "        [  0,   0, 255]],\n",
       "\n",
       "       [[  0,   0, 255],\n",
       "        [  0,   0, 255],\n",
       "        [  0,   0, 255],\n",
       "        ...,\n",
       "        [  0,   0, 255],\n",
       "        [  0,   0, 255],\n",
       "        [  0,   0, 255]],\n",
       "\n",
       "       [[  0,   0, 255],\n",
       "        [  0,   0, 255],\n",
       "        [  0,   0, 255],\n",
       "        ...,\n",
       "        [  0,   0, 255],\n",
       "        [  0,   0, 255],\n",
       "        [  0,   0, 255]]], dtype=uint8)"
      ]
     },
     "execution_count": 17,
     "metadata": {},
     "output_type": "execute_result"
    }
   ],
   "source": [
    "hsv_img"
   ]
  },
  {
   "cell_type": "code",
   "execution_count": null,
   "id": "2d8ac440",
   "metadata": {},
   "outputs": [],
   "source": []
  }
 ],
 "metadata": {
  "kernelspec": {
   "display_name": "Python 3 (ipykernel)",
   "language": "python",
   "name": "python3"
  },
  "language_info": {
   "codemirror_mode": {
    "name": "ipython",
    "version": 3
   },
   "file_extension": ".py",
   "mimetype": "text/x-python",
   "name": "python",
   "nbconvert_exporter": "python",
   "pygments_lexer": "ipython3",
   "version": "3.9.13"
  }
 },
 "nbformat": 4,
 "nbformat_minor": 5
}
