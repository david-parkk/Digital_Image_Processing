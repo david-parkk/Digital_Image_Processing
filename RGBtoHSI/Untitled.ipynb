{
 "cells": [
  {
   "cell_type": "code",
   "execution_count": null,
   "id": "ab97ac83",
   "metadata": {},
   "outputs": [],
   "source": []
  },
  {
   "cell_type": "code",
   "execution_count": 8,
   "id": "fbac6747",
   "metadata": {},
   "outputs": [],
   "source": [
    "import numpy as np\n",
    "import cv2 as cv\n",
    "img = cv.imread('karoro.png')\n",
    "assert img is not None, \"file could not be read, check with os.path.exists()\"\n",
    "import warnings\n",
    "warnings.filterwarnings('ignore')"
   ]
  },
  {
   "cell_type": "code",
   "execution_count": 9,
   "id": "698a7693",
   "metadata": {},
   "outputs": [
    {
     "name": "stdout",
     "output_type": "stream",
     "text": [
      "3.141592653589793\n"
     ]
    }
   ],
   "source": [
    "print(np.pi)"
   ]
  },
  {
   "cell_type": "code",
   "execution_count": 10,
   "id": "2e62549b",
   "metadata": {},
   "outputs": [
    {
     "name": "stdout",
     "output_type": "stream",
     "text": [
      "150822\n"
     ]
    }
   ],
   "source": [
    "print(img.size)"
   ]
  },
  {
   "cell_type": "code",
   "execution_count": 11,
   "id": "f53e31da",
   "metadata": {},
   "outputs": [
    {
     "data": {
      "text/plain": [
       "(171, 294, 3)"
      ]
     },
     "execution_count": 11,
     "metadata": {},
     "output_type": "execute_result"
    }
   ],
   "source": [
    "img.shape"
   ]
  },
  {
   "cell_type": "code",
   "execution_count": 27,
   "id": "46ef4532",
   "metadata": {},
   "outputs": [
    {
     "data": {
      "text/plain": [
       "(171, 294, 3)"
      ]
     },
     "execution_count": 27,
     "metadata": {},
     "output_type": "execute_result"
    }
   ],
   "source": [
    "img1 = np.zeros(img.shape, np.uint8)\n",
    "img1.shape"
   ]
  },
  {
   "cell_type": "code",
   "execution_count": 28,
   "id": "c530d481",
   "metadata": {},
   "outputs": [],
   "source": [
    "height, width, channel = img.shape"
   ]
  },
  {
   "cell_type": "code",
   "execution_count": 29,
   "id": "04a6fb50",
   "metadata": {},
   "outputs": [],
   "source": [
    "\n",
    "bgr = img.astype(np.float64)"
   ]
  },
  {
   "cell_type": "code",
   "execution_count": 30,
   "id": "075f9fc0",
   "metadata": {},
   "outputs": [],
   "source": [
    "\n",
    "b, g, r = cv.split(bgr)"
   ]
  },
  {
   "cell_type": "code",
   "execution_count": 52,
   "id": "cf53e721",
   "metadata": {},
   "outputs": [],
   "source": [
    "hsv=cv.cvtColor(img,cv.COLOR_BGR2HSV)\n",
    "h, s, v = cv.split(hsv)\n",
    "\n",
    "cv.imshow(\"h\", h)\n",
    "cv.imshow(\"s\", s)\n",
    "cv.imshow(\"v\", v)\n",
    "cv.waitKey()\n",
    "cv.destroyAllWindows()"
   ]
  },
  {
   "cell_type": "code",
   "execution_count": 51,
   "id": "cf3f74c5",
   "metadata": {},
   "outputs": [
    {
     "data": {
      "text/plain": [
       "array([[150, 150, 150, ...,   0,   0,   0],\n",
       "       [150, 150, 150, ...,   0,   0,   0],\n",
       "       [150, 150, 150, ...,   0,   0,   0],\n",
       "       ...,\n",
       "       [  0,   0,   0, ...,   0,   0,   0],\n",
       "       [  0,   0,   0, ...,   0,   0,   0],\n",
       "       [  0,   0,   0, ...,   0,   0,   0]], dtype=uint8)"
      ]
     },
     "execution_count": 51,
     "metadata": {},
     "output_type": "execute_result"
    }
   ],
   "source": [
    "h"
   ]
  },
  {
   "cell_type": "markdown",
   "id": "900b2f4a",
   "metadata": {},
   "source": [
    "### 수평선"
   ]
  },
  {
   "cell_type": "code",
   "execution_count": 20,
   "id": "e4c8b987",
   "metadata": {},
   "outputs": [],
   "source": [
    "v=1-(3*np.max(bgr,axis=2))"
   ]
  },
  {
   "cell_type": "code",
   "execution_count": 21,
   "id": "76327451",
   "metadata": {},
   "outputs": [
    {
     "data": {
      "text/plain": [
       "array([[-2., -2., -2., ..., -2., -2., -2.],\n",
       "       [-2., -2., -2., ..., -2., -2., -2.],\n",
       "       [-2., -2., -2., ..., -2., -2., -2.],\n",
       "       ...,\n",
       "       [-2., -2., -2., ..., -2., -2., -2.],\n",
       "       [-2., -2., -2., ..., -2., -2., -2.],\n",
       "       [-2., -2., -2., ..., -2., -2., -2.]])"
      ]
     },
     "execution_count": 21,
     "metadata": {},
     "output_type": "execute_result"
    }
   ],
   "source": [
    "v\n"
   ]
  },
  {
   "cell_type": "code",
   "execution_count": 19,
   "id": "f4942067",
   "metadata": {},
   "outputs": [
    {
     "data": {
      "text/plain": [
       "array([[1., 1., 1., ..., 1., 1., 1.],\n",
       "       [1., 1., 1., ..., 1., 1., 1.],\n",
       "       [1., 1., 1., ..., 1., 1., 1.],\n",
       "       ...,\n",
       "       [1., 1., 1., ..., 1., 1., 1.],\n",
       "       [1., 1., 1., ..., 1., 1., 1.],\n",
       "       [1., 1., 1., ..., 1., 1., 1.]])"
      ]
     },
     "execution_count": 19,
     "metadata": {},
     "output_type": "execute_result"
    }
   ],
   "source": [
    "\n",
    "v = np.max(bgr, axis=2)\n",
    "v"
   ]
  },
  {
   "cell_type": "code",
   "execution_count": 16,
   "id": "801df8b8",
   "metadata": {},
   "outputs": [],
   "source": []
  },
  {
   "cell_type": "code",
   "execution_count": 17,
   "id": "256c150f",
   "metadata": {},
   "outputs": [],
   "source": [
    "for i in range(height):\n",
    "    for j in range(width):\n",
    "        if v[i][j] == 0:\n",
    "            h[i][j] = 0\n",
    "            s[i][j] = 0\n",
    "        else:\n",
    "            min_rgb = min(bgr[i][j])\n",
    "            \n",
    "            s[i][j] = 1 - (min_rgb / v[i][j])\n",
    "            \n",
    "            if v[i][j] == r[i][j]:\n",
    "                h[i][j] = 60 * (g[i][j] - b[i][j]) / (v[i][j] - min_rgb)\n",
    "            elif v[i][j] == g[i][j]:\n",
    "                h[i][j] = 120 + (60 * (b[i][j] - r[i][j])) / (v[i][j] - min_rgb)\n",
    "            elif v[i][j] == b[i][j]:\n",
    "                h[i][j] = 240 + (60 * (r[i][j] - g[i][j])) / (v[i][j] - min_rgb)\n",
    "            if h[i][j] < 0:\n",
    "                h[i][j] += 360\n",
    "            h[i][j] /= 360"
   ]
  },
  {
   "cell_type": "code",
   "execution_count": null,
   "id": "5e546c03",
   "metadata": {},
   "outputs": [],
   "source": []
  },
  {
   "cell_type": "code",
   "execution_count": 18,
   "id": "dd7186f4",
   "metadata": {},
   "outputs": [],
   "source": [
    "hsv_img = (np.dstack((h, s, v)) * 255).astype(np.uint8)"
   ]
  },
  {
   "cell_type": "code",
   "execution_count": 19,
   "id": "004be74e",
   "metadata": {},
   "outputs": [],
   "source": [
    "cv.imshow('asdf',hsv_img)\n",
    "k = cv.waitKey(0)"
   ]
  },
  {
   "cell_type": "code",
   "execution_count": 17,
   "id": "09e7809e",
   "metadata": {},
   "outputs": [
    {
     "data": {
      "text/plain": [
       "array([[[212,   2, 255],\n",
       "        [212,   2, 255],\n",
       "        [212,   4, 255],\n",
       "        ...,\n",
       "        [  0,   0, 255],\n",
       "        [  0,   0, 255],\n",
       "        [  0,   0, 255]],\n",
       "\n",
       "       [[212,   2, 255],\n",
       "        [212,   2, 255],\n",
       "        [212,   4, 255],\n",
       "        ...,\n",
       "        [  0,   0, 255],\n",
       "        [  0,   0, 255],\n",
       "        [  0,   0, 255]],\n",
       "\n",
       "       [[212,   2, 255],\n",
       "        [212,   2, 255],\n",
       "        [212,   2, 255],\n",
       "        ...,\n",
       "        [  0,   0, 255],\n",
       "        [  0,   0, 255],\n",
       "        [  0,   0, 255]],\n",
       "\n",
       "       ...,\n",
       "\n",
       "       [[  0,   0, 255],\n",
       "        [  0,   0, 255],\n",
       "        [  0,   0, 255],\n",
       "        ...,\n",
       "        [  0,   0, 255],\n",
       "        [  0,   0, 255],\n",
       "        [  0,   0, 255]],\n",
       "\n",
       "       [[  0,   0, 255],\n",
       "        [  0,   0, 255],\n",
       "        [  0,   0, 255],\n",
       "        ...,\n",
       "        [  0,   0, 255],\n",
       "        [  0,   0, 255],\n",
       "        [  0,   0, 255]],\n",
       "\n",
       "       [[  0,   0, 255],\n",
       "        [  0,   0, 255],\n",
       "        [  0,   0, 255],\n",
       "        ...,\n",
       "        [  0,   0, 255],\n",
       "        [  0,   0, 255],\n",
       "        [  0,   0, 255]]], dtype=uint8)"
      ]
     },
     "execution_count": 17,
     "metadata": {},
     "output_type": "execute_result"
    }
   ],
   "source": [
    "hsv_img"
   ]
  },
  {
   "cell_type": "code",
   "execution_count": null,
   "id": "2d8ac440",
   "metadata": {},
   "outputs": [],
   "source": []
  }
 ],
 "metadata": {
  "kernelspec": {
   "display_name": "Python 3 (ipykernel)",
   "language": "python",
   "name": "python3"
  },
  "language_info": {
   "codemirror_mode": {
    "name": "ipython",
    "version": 3
   },
   "file_extension": ".py",
   "mimetype": "text/x-python",
   "name": "python",
   "nbconvert_exporter": "python",
   "pygments_lexer": "ipython3",
   "version": "3.9.13"
  }
 },
 "nbformat": 4,
 "nbformat_minor": 5
}
