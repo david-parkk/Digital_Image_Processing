{
 "cells": [
  {
   "cell_type": "code",
   "execution_count": 9,
   "id": "7b73456f",
   "metadata": {},
   "outputs": [],
   "source": [
    "import cv2 as cv\n",
    "import matplotlib.pyplot as plt\n",
    "import numpy as np\n",
    "img = cv2.imread('lena.PNG')"
   ]
  },
  {
   "cell_type": "code",
   "execution_count": 22,
   "id": "d6399569",
   "metadata": {},
   "outputs": [],
   "source": [
    "cv.imshow('lena',img)\n",
    "cv.waitKey()\n",
    "cv.destroyAllWindows()"
   ]
  },
  {
   "cell_type": "code",
   "execution_count": 17,
   "id": "eeffb062",
   "metadata": {},
   "outputs": [],
   "source": [
    "mask=np.ones((3,3),np.float32)/9"
   ]
  },
  {
   "cell_type": "code",
   "execution_count": 18,
   "id": "214a8d9a",
   "metadata": {},
   "outputs": [
    {
     "data": {
      "text/plain": [
       "array([[0.11111111, 0.11111111, 0.11111111],\n",
       "       [0.11111111, 0.11111111, 0.11111111],\n",
       "       [0.11111111, 0.11111111, 0.11111111]], dtype=float32)"
      ]
     },
     "execution_count": 18,
     "metadata": {},
     "output_type": "execute_result"
    }
   ],
   "source": [
    "mask"
   ]
  },
  {
   "cell_type": "code",
   "execution_count": 20,
   "id": "45fac826",
   "metadata": {},
   "outputs": [],
   "source": [
    "img1=cv.filter2D(img,-1,mask)"
   ]
  },
  {
   "cell_type": "code",
   "execution_count": 21,
   "id": "9a389420",
   "metadata": {},
   "outputs": [],
   "source": [
    "cv.imshow('lena1',img1)\n",
    "cv.waitKey()\n",
    "cv.destroyAllWindows()"
   ]
  },
  {
   "cell_type": "code",
   "execution_count": null,
   "id": "a0db1b58",
   "metadata": {},
   "outputs": [],
   "source": []
  }
 ],
 "metadata": {
  "kernelspec": {
   "display_name": "Python 3 (ipykernel)",
   "language": "python",
   "name": "python3"
  },
  "language_info": {
   "codemirror_mode": {
    "name": "ipython",
    "version": 3
   },
   "file_extension": ".py",
   "mimetype": "text/x-python",
   "name": "python",
   "nbconvert_exporter": "python",
   "pygments_lexer": "ipython3",
   "version": "3.9.13"
  }
 },
 "nbformat": 4,
 "nbformat_minor": 5
}
